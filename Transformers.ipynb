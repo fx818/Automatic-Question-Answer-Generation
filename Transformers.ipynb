{
 "cells": [
  {
   "cell_type": "markdown",
   "metadata": {},
   "source": [
    "# Transformer library in python"
   ]
  },
  {
   "cell_type": "markdown",
   "metadata": {},
   "source": [
    "The `transformers` module in Python, developed by `Hugging Face`, provides an easy-to-use interface for state-of-the-art Natural Language Processing (NLP) models, including those based on the Transformer architecture, like `BERT`, `GPT-2`, and others. One of the most user-friendly features of this library is the `pipeline` function, which allows for quick and easy application of various NLP tasks."
   ]
  },
  {
   "cell_type": "markdown",
   "metadata": {},
   "source": [
    "  > pip install transformers"
   ]
  },
  {
   "cell_type": "markdown",
   "metadata": {},
   "source": [
    "### Overview of the pipeline Function"
   ]
  },
  {
   "cell_type": "markdown",
   "metadata": {},
   "source": [
    "The pipeline function simplifies the process of using pre-trained models for various NLP tasks. It abstracts away the complexities of loading models, tokenizers, and other components, allowing you to perform tasks with minimal code."
   ]
  },
  {
   "cell_type": "markdown",
   "metadata": {},
   "source": [
    "### Basic Usage"
   ]
  },
  {
   "cell_type": "markdown",
   "metadata": {},
   "source": [
    "> Sentiment Analysis"
   ]
  },
  {
   "cell_type": "code",
   "execution_count": null,
   "metadata": {},
   "outputs": [],
   "source": [
    "from transformers import pipeline\n",
    "\n",
    "# Create a sentiment-analysis pipeline with a specific model\n",
    "model_name = \"distilbert/distilbert-base-uncased-finetuned-sst-2-english\"\n",
    "sentiment_analyzer = pipeline(\"sentiment-analysis\", model=model_name)\n",
    "\n",
    "# Analyze sentiment\n",
    "result = sentiment_analyzer(\"I love using transformers!\")\n",
    "print(result)\n"
   ]
  },
  {
   "cell_type": "markdown",
   "metadata": {},
   "source": [
    "Output: [{'label': 'POSITIVE', 'score': 0.9994327425956726}]"
   ]
  },
  {
   "cell_type": "markdown",
   "metadata": {},
   "source": [
    "> Named Entity Recognition (NER)"
   ]
  },
  {
   "cell_type": "code",
   "execution_count": null,
   "metadata": {},
   "outputs": [],
   "source": [
    "ner = pipeline(\"ner\", grouped_entities=True)\n",
    "\n",
    "# Recognize named entities\n",
    "result = ner(\"Hugging Face Inc. is a company based in New York City.\")\n",
    "print(result)\n"
   ]
  },
  {
   "cell_type": "markdown",
   "metadata": {},
   "source": [
    "[\n",
    "    \n",
    "    {'entity_group': 'ORG', 'score': 0.9937138, 'word': 'Hugging Face Inc', 'start': 0, 'end': 16}\n",
    "    \n",
    "    {'entity_group': 'LOC', 'score': 0.99901754, 'word': 'New York City', 'start': 40, 'end': 53}\n",
    "    \n",
    "]"
   ]
  },
  {
   "cell_type": "markdown",
   "metadata": {},
   "source": [
    "> Question Answering\n"
   ]
  },
  {
   "cell_type": "code",
   "execution_count": null,
   "metadata": {},
   "outputs": [],
   "source": [
    "from transformers import pipeline\n",
    "qa = pipeline(\"question-answering\")\n",
    "\n",
    "# Answer a question given some context\n",
    "context = \"COVID‑19 transmission occurs when infectious particles are breathed in or come into contact with the eyes, nose, or mouth. The risk is highest when people are in close proximity, but small airborne particles containing the virus can remain suspended in the air and travel over longer distances, particularly indoors. Transmission can also occur when people touch their eyes, nose or mouth after touching surfaces or objects that have been contaminated by the virus. People remain contagious for up to 20 days and can spread the virus even if they do not develop symptoms\"\n",
    "result = qa(question=\"How COVID19 transmits?\", context=context)\n",
    "print(result)\n"
   ]
  },
  {
   "cell_type": "markdown",
   "metadata": {},
   "source": [
    "Output: \n",
    "\n",
    "{'score': 0.015182592906057835, 'start': 29, 'end': 91, 'answer': 'when infectious particles are breathed in or come into contact'}"
   ]
  },
  {
   "cell_type": "markdown",
   "metadata": {},
   "source": [
    "> Summarization"
   ]
  },
  {
   "cell_type": "code",
   "execution_count": null,
   "metadata": {},
   "outputs": [],
   "source": [
    "summarizer = pipeline(\"summarization\")\n",
    "\n",
    "# Summarize text\n",
    "result = summarizer(\"The transformers library is a great tool for natural language processing...\")\n",
    "print(result)\n"
   ]
  },
  {
   "cell_type": "markdown",
   "metadata": {},
   "source": [
    "[\n",
    "    \n",
    "    {'summary_text': ' The transformers library is a great tool for natural language processing . It is a library of transformers that transforms language into a form of language . Transforms are a powerful tool for language processing and language analysis . Use the transformers to help you understand language patterns in the language of speech .'}\n",
    "\n",
    "]"
   ]
  },
  {
   "cell_type": "markdown",
   "metadata": {},
   "source": [
    "> Example with Custom Model and Tokenizer"
   ]
  },
  {
   "cell_type": "code",
   "execution_count": null,
   "metadata": {},
   "outputs": [],
   "source": [
    "from transformers import pipeline, AutoModelForSequenceClassification, AutoTokenizer\n",
    "\n",
    "# Load a custom model and tokenizer\n",
    "model_name = \"distilbert-base-uncased-finetuned-sst-2-english\"\n",
    "model = AutoModelForSequenceClassification.from_pretrained(model_name)\n",
    "tokenizer = AutoTokenizer.from_pretrained(model_name)\n",
    "\n",
    "# Create a sentiment-analysis pipeline with custom model and tokenizer\n",
    "sentiment_analyzer = pipeline(\"sentiment-analysis\", model=model, tokenizer=tokenizer)\n",
    "\n",
    "# Analyze sentiment\n",
    "result = sentiment_analyzer(\"Transformers are amazing!\")\n",
    "print(result)\n"
   ]
  },
  {
   "cell_type": "markdown",
   "metadata": {},
   "source": [
    "[\n",
    "    \n",
    "    {'label': 'POSITIVE', 'score': 0.9998725652694702}\n",
    "\n",
    "]"
   ]
  },
  {
   "cell_type": "markdown",
   "metadata": {},
   "source": [
    "> Zero-Shot Classification"
   ]
  },
  {
   "cell_type": "code",
   "execution_count": null,
   "metadata": {},
   "outputs": [],
   "source": [
    "zero_shot_classifier = pipeline(\"zero-shot-classification\")\n",
    "\n",
    "# Classify text with zero-shot learning\n",
    "result = zero_shot_classifier(\n",
    "    \"This is a great tool for NLP.\",\n",
    "    candidate_labels=[\"technology\", \"sports\", \"politics\"]\n",
    ")\n",
    "print(result)\n"
   ]
  },
  {
   "cell_type": "markdown",
   "metadata": {},
   "source": [
    "{\n",
    "\n",
    "    'sequence': 'This is a great tool for NLP.',\n",
    "    'labels': ['technology', 'sports', 'politics'], \n",
    "    'scores': [0.9926473498344421, 0.004391048569232225, 0.002961533609777689]\n",
    "\n",
    "}"
   ]
  },
  {
   "cell_type": "markdown",
   "metadata": {},
   "source": [
    "> Text-to-Text Generation"
   ]
  },
  {
   "cell_type": "code",
   "execution_count": null,
   "metadata": {},
   "outputs": [],
   "source": [
    "text2text_generator = pipeline(\"text2text-generation\", model=\"t5-small\")\n",
    "\n",
    "# Generate text from input\n",
    "result = text2text_generator(\"translate English to French: hey man?\")\n",
    "print(result)\n"
   ]
  },
  {
   "cell_type": "markdown",
   "metadata": {},
   "source": [
    "[\n",
    "    \n",
    "    {'generated_text': \"l'homme ?\"}\n",
    "\n",
    "]"
   ]
  },
  {
   "cell_type": "markdown",
   "metadata": {},
   "source": [
    "## Conclusion\n",
    "The `transformers` module, and particularly the `pipeline function`, provides a powerful and easy-to-use interface for leveraging pre-trained Transformer models for a wide range of NLP tasks. By abstracting the complexities of model loading, tokenization, and processing, the pipeline function allows developers to quickly integrate advanced NLP capabilities into their applications.\n"
   ]
  }
 ],
 "metadata": {
  "kernelspec": {
   "display_name": "Python 3",
   "language": "python",
   "name": "python3"
  },
  "language_info": {
   "codemirror_mode": {
    "name": "ipython",
    "version": 3
   },
   "file_extension": ".py",
   "mimetype": "text/x-python",
   "name": "python",
   "nbconvert_exporter": "python",
   "pygments_lexer": "ipython3",
   "version": "3.12.2"
  }
 },
 "nbformat": 4,
 "nbformat_minor": 2
}
