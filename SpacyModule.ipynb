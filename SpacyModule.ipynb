{
 "cells": [
  {
   "cell_type": "markdown",
   "metadata": {},
   "source": [
    "# Spacy Module"
   ]
  },
  {
   "cell_type": "markdown",
   "metadata": {},
   "source": [
    "SpaCy is a popular open-source library for advanced Natural Language Processing (NLP) in Python. It is designed for performance and ease of use, enabling developers to process large volumes of text quickly and efficiently"
   ]
  },
  {
   "cell_type": "markdown",
   "metadata": {},
   "source": [
    "> pip install spacy\n",
    "\n",
    "> python -m spacy download en_core_web_sm"
   ]
  },
  {
   "cell_type": "code",
   "execution_count": 1,
   "metadata": {},
   "outputs": [
    {
     "name": "stdout",
     "output_type": "stream",
     "text": [
      "\n",
      "Printing doc \n",
      " Apple is looking at buying U.K. startup for $1 billion Printed doc succesfully\n",
      "\n",
      "\n",
      "Apple Apple PROPN NNP nsubj Xxxxx True False\n",
      "is be AUX VBZ aux xx True True\n",
      "looking look VERB VBG ROOT xxxx True False\n",
      "at at ADP IN prep xx True True\n",
      "buying buy VERB VBG pcomp xxxx True False\n",
      "U.K. U.K. PROPN NNP dobj X.X. False False\n",
      "startup startup NOUN NN dep xxxx True False\n",
      "for for ADP IN prep xxx True True\n",
      "$ $ SYM $ quantmod $ False False\n",
      "1 1 NUM CD compound d False False\n",
      "billion billion NUM CD pobj xxxx True False\n"
     ]
    }
   ],
   "source": [
    "\n",
    "import spacy\n",
    "\n",
    "# Load the spaCy model\n",
    "\n",
    "nlp = spacy.load(\"en_core_web_sm\")\n",
    "\n",
    "\n",
    "# Process a text\n",
    "doc = nlp(\"Apple is looking at buying U.K. startup for $1 billion\")\n",
    "\n",
    "print(\"\\nPrinting doc \\n\",doc,\"Printed doc succesfully\\n\\n\")\n",
    "\n",
    "\n",
    "# Print each token\n",
    "for token in doc:\n",
    "    print(token.text, token.lemma_, token.pos_, token.tag_, token.dep_,\n",
    "          token.shape_, token.is_alpha, token.is_stop)\n"
   ]
  },
  {
   "cell_type": "markdown",
   "metadata": {},
   "source": [
    "## Detailed Explanation of Tokens\n",
    "In Natural Language Processing (NLP), tokens are the basic building blocks of text. A token is a single occurrence of a sequence of characters in some particular document that are grouped together as a useful semantic unit for processing. Tokenization is the process of splitting text into these units.\n",
    "\n",
    "### Definition and Purpose:\n",
    "\n",
    "> Token:\n",
    "\n",
    "A token is an instance of a sequence of characters in a text that is grouped together as a semantic unit for processing. Tokens can be words, punctuation marks, numbers, or any other meaningful units of text.\n",
    "> Purpose\n",
    "\n",
    "Tokenization is essential for many NLP tasks as it converts a stream of text into smaller, manageable pieces (tokens) that can be processed individually. This is the first step in many NLP tasks like parsing, part-of-speech tagging, named entity recognition, etc.\n",
    "\n",
    "### Tokenization Process:\n",
    "\n",
    "The process of tokenization involves dividing a text into a list of tokens. For example, the sentence \"Hello, world!\" could be tokenized into [\"Hello\", \",\", \"world\", \"!\"].\n",
    "\n",
    "\n",
    "Tokenization can be complex because it involves handling various language-specific rules and exceptions, such as contractions in English (e.g., \"don't\" -> [\"do\", \"n't\"]) or compound words in German.\n",
    "\n",
    "### Types of Tokens:\n",
    "\n",
    "> Words: \n",
    "\n",
    "The most common type of tokens. For example, \"Hello\", \"world\".\n",
    "\n",
    "> Punctuation: \n",
    "\n",
    "Punctuation marks are often treated as separate tokens. For example, \",\", \"!\".\n",
    "\n",
    "\n",
    "> Numbers:\n",
    "\n",
    "Numeric values are also treated as tokens. For example, \"123\".\n",
    "\n",
    "> Special Characters:\n",
    "\n",
    " Any other characters like \"$\", \"&\", etc.\n",
    "\n",
    "### Tokenization Techniques:\n",
    "\n",
    "> Whitespace Tokenization: \n",
    "\n",
    "Splits text by spaces. Simple but can miss important information.\n",
    "\n",
    "> Punctuation-based Tokenization: \n",
    "\n",
    "Splits text by punctuation marks.\n",
    "\n",
    "> Regular Expression-based Tokenization: \n",
    "\n",
    "Uses regular expressions to define complex splitting rules.\n",
    "\n",
    "> Language-specific Tokenization: \n",
    "\n",
    "Uses language-specific rules to accurately tokenize text, handling things like contractions and compound words."
   ]
  },
  {
   "cell_type": "markdown",
   "metadata": {},
   "source": [
    "## Tokenization in spaCy\n",
    "SpaCy is a popular library for NLP in Python that provides efficient and robust tokenization out-of-the-box. Here’s how tokens are handled in spaCy:\n",
    "\n",
    "### Detailed Token Attributes in spaCy\n",
    "\n",
    "`Text:` The original text of the token.\n",
    "\n",
    "`Lemma:` The base form of the token (useful for normalization).\n",
    "\n",
    "`POS (Part of Speech):` The syntactic category of the token (e.g., noun, verb).\n",
    "\n",
    "`Tag:` Detailed part-of-speech tag.\n",
    "\n",
    "`Dep (Dependency):` The syntactic dependency label (e.g., subject, object).\n",
    "\n",
    "`Shape:` The shape of the token (e.g., \"Xxxx\" for \"Apple\").\n",
    "\n",
    "`Is Alpha:` Boolean indicating if the token consists of alphabetic characters.\n",
    "\n",
    "`Is Stop:` Boolean indicating if the token is a stop word (common words that are often removed in preprocessing)."
   ]
  },
  {
   "cell_type": "code",
   "execution_count": 2,
   "metadata": {},
   "outputs": [
    {
     "name": "stdout",
     "output_type": "stream",
     "text": [
      "Text: Apple, Lemma: Apple, POS: PROPN, Tag: NNP, Dep: nsubj, Shape: Xxxxx, Is Alpha: True, Is Stop: False\n",
      "Text: is, Lemma: be, POS: AUX, Tag: VBZ, Dep: aux, Shape: xx, Is Alpha: True, Is Stop: True\n",
      "Text: looking, Lemma: look, POS: VERB, Tag: VBG, Dep: ROOT, Shape: xxxx, Is Alpha: True, Is Stop: False\n",
      "Text: at, Lemma: at, POS: ADP, Tag: IN, Dep: prep, Shape: xx, Is Alpha: True, Is Stop: True\n",
      "Text: buying, Lemma: buy, POS: VERB, Tag: VBG, Dep: pcomp, Shape: xxxx, Is Alpha: True, Is Stop: False\n",
      "Text: U.K., Lemma: U.K., POS: PROPN, Tag: NNP, Dep: dobj, Shape: X.X., Is Alpha: False, Is Stop: False\n",
      "Text: startup, Lemma: startup, POS: NOUN, Tag: NN, Dep: dep, Shape: xxxx, Is Alpha: True, Is Stop: False\n",
      "Text: for, Lemma: for, POS: ADP, Tag: IN, Dep: prep, Shape: xxx, Is Alpha: True, Is Stop: True\n",
      "Text: $, Lemma: $, POS: SYM, Tag: $, Dep: quantmod, Shape: $, Is Alpha: False, Is Stop: False\n",
      "Text: 1, Lemma: 1, POS: NUM, Tag: CD, Dep: compound, Shape: d, Is Alpha: False, Is Stop: False\n",
      "Text: billion, Lemma: billion, POS: NUM, Tag: CD, Dep: pobj, Shape: xxxx, Is Alpha: True, Is Stop: False\n",
      "Text: ., Lemma: ., POS: PUNCT, Tag: ., Dep: punct, Shape: ., Is Alpha: False, Is Stop: False\n"
     ]
    }
   ],
   "source": [
    "\n",
    "# Loading a Language Model:\n",
    "\n",
    "import spacy\n",
    "nlp = spacy.load(\"en_core_web_sm\")\n",
    "\n",
    "# Processing Text:\n",
    "doc = nlp(\"Apple is looking at buying U.K. startup for $1 billion.\")\n",
    "\n",
    "\n",
    "# Accessing Tokens:\n",
    "for token in doc:\n",
    "    print(token.text)\n",
    "\n",
    "\n",
    "# Token Attributes:\n",
    "for token in doc:\n",
    "    print(f\"Text: {token.text}, Lemma: {token.lemma_}, POS: {token.pos_}, Tag: {token.tag_}, Dep: {token.dep_}, Shape: {token.shape_}, Is Alpha: {token.is_alpha}, Is Stop: {token.is_stop}\")\n"
   ]
  },
  {
   "attachments": {
    "image.png": {
     "image/png": "[encoded data removed]"
    }
   },
   "cell_type": "markdown",
   "metadata": {},
   "source": [
    "### Named Entity Recognition Labels\n",
    "![image.png](attachment:image.png)"
   ]
  },
  {
   "cell_type": "code",
   "execution_count": 9,
   "metadata": {},
   "outputs": [
    {
     "name": "stdout",
     "output_type": "stream",
     "text": [
      "Apple 0 5 ORG\n",
      "U.K. 27 31 GPE\n",
      "$1 billion 44 54 MONEY\n"
     ]
    }
   ],
   "source": [
    "for ent in doc.ents:\n",
    "    print(ent.text, ent.start_char, ent.end_char, ent.label_)\n"
   ]
  },
  {
   "cell_type": "markdown",
   "metadata": {},
   "source": [
    "### Key Components"
   ]
  },
  {
   "cell_type": "markdown",
   "metadata": {},
   "source": [
    "Tokenizer: Splits text into tokens (words, punctuation, etc.). This is the first component in the pipeline."
   ]
  },
  {
   "cell_type": "code",
   "execution_count": 12,
   "metadata": {},
   "outputs": [
    {
     "name": "stdout",
     "output_type": "stream",
     "text": [
      "the doc is:  This is a sentence.\n",
      "This\n",
      "is\n",
      "a\n",
      "sentence\n",
      ".\n"
     ]
    }
   ],
   "source": [
    "doc = nlp(\"This is a sentence.\")\n",
    "print(\"the doc is: \",doc)\n",
    "for token in doc:\n",
    "    print(token.text)\n"
   ]
  },
  {
   "cell_type": "markdown",
   "metadata": {},
   "source": [
    "Tagger: Assigns part-of-speech (POS) tags to each token."
   ]
  },
  {
   "cell_type": "code",
   "execution_count": 24,
   "metadata": {},
   "outputs": [
    {
     "name": "stdout",
     "output_type": "stream",
     "text": [
      "Apple PROPN\n",
      "is AUX\n",
      "looking VERB\n",
      "at ADP\n",
      "buying VERB\n",
      "U.K. PROPN\n",
      "startup NOUN\n",
      "for ADP\n",
      "$ SYM\n",
      "1 NUM\n",
      "billion NUM\n"
     ]
    }
   ],
   "source": [
    "for token in doc:\n",
    "    print(token.text, token.pos_)\n"
   ]
  },
  {
   "cell_type": "markdown",
   "metadata": {},
   "source": [
    "Parser: Analyzes the syntactic structure and assigns dependency labels."
   ]
  },
  {
   "cell_type": "code",
   "execution_count": 14,
   "metadata": {},
   "outputs": [
    {
     "name": "stdout",
     "output_type": "stream",
     "text": [
      "This nsubj is\n",
      "is ROOT is\n",
      "a det sentence\n",
      "sentence attr is\n",
      ". punct is\n"
     ]
    }
   ],
   "source": [
    "for token in doc:\n",
    "    print(token.text, token.dep_, token.head.text)\n"
   ]
  },
  {
   "cell_type": "markdown",
   "metadata": {},
   "source": [
    "Named Entity Recognizer (NER): Detects named entities like names of people, organizations, locations, dates, etc."
   ]
  },
  {
   "cell_type": "code",
   "execution_count": 25,
   "metadata": {},
   "outputs": [
    {
     "name": "stdout",
     "output_type": "stream",
     "text": [
      "Apple ORG\n",
      "U.K. GPE\n",
      "$1 billion MONEY\n"
     ]
    }
   ],
   "source": [
    "for ent in doc.ents:\n",
    "    print(ent.text, ent.label_)\n"
   ]
  },
  {
   "cell_type": "markdown",
   "metadata": {},
   "source": [
    "Lemmatizer: Normalizes words to their base forms."
   ]
  },
  {
   "cell_type": "code",
   "execution_count": 16,
   "metadata": {},
   "outputs": [
    {
     "name": "stdout",
     "output_type": "stream",
     "text": [
      "This this\n",
      "is be\n",
      "a a\n",
      "sentence sentence\n",
      ". .\n"
     ]
    }
   ],
   "source": [
    "for token in doc:\n",
    "    print(token.text, token.lemma_)\n"
   ]
  },
  {
   "cell_type": "markdown",
   "metadata": {},
   "source": [
    "### Custom Components\n",
    "You can add custom components to the spaCy pipeline."
   ]
  },
  {
   "cell_type": "code",
   "execution_count": 17,
   "metadata": {},
   "outputs": [
    {
     "name": "stdout",
     "output_type": "stream",
     "text": [
      "Custom component: This is a sentence.\n"
     ]
    }
   ],
   "source": [
    "@spacy.Language.component(\"custom_component\")\n",
    "def custom_component(doc):\n",
    "    # Process the doc and modify it\n",
    "    print(\"Custom component:\", doc)\n",
    "    return doc\n",
    "\n",
    "nlp.add_pipe(\"custom_component\", last=True)\n",
    "\n",
    "doc = nlp(\"This is a sentence.\")\n"
   ]
  },
  {
   "cell_type": "markdown",
   "metadata": {},
   "source": [
    "### Visualization\n",
    "SpaCy integrates well with the displacy module for visualizing dependencies and named entities.\n",
    "\n"
   ]
  },
  {
   "cell_type": "code",
   "execution_count": 18,
   "metadata": {},
   "outputs": [
    {
     "name": "stderr",
     "output_type": "stream",
     "text": [
      "C:\\Users\\anura\\AppData\\Roaming\\Python\\Python312\\site-packages\\spacy\\displacy\\__init__.py:106: UserWarning: [W011] It looks like you're calling displacy.serve from within a Jupyter notebook or a similar environment. This likely means you're already running a local web server, so there's no need to make displaCy start another one. Instead, you should be able to replace displacy.serve with displacy.render to show the visualization.\n",
      "  warnings.warn(Warnings.W011)\n"
     ]
    },
    {
     "data": {
      "text/html": [
       "<span class=\"tex2jax_ignore\"><!DOCTYPE html>\n",
       "<html lang=\"en\">\n",
       "    <head>\n",
       "        <title>displaCy</title>\n",
       "    </head>\n",
       "\n",
       "    <body style=\"font-size: 16px; font-family: -apple-system, BlinkMacSystemFont, 'Segoe UI', Helvetica, Arial, sans-serif, 'Apple Color Emoji', 'Segoe UI Emoji', 'Segoe UI Symbol'; padding: 4rem 2rem; direction: ltr\">\n",
       "<figure style=\"margin-bottom: 6rem\">\n",
       "<svg xmlns=\"http://www.w3.org/2000/svg\" xmlns:xlink=\"http://www.w3.org/1999/xlink\" xml:lang=\"en\" id=\"7571ad5e2ed9453ba95ea11aa5eed6bc-0\" class=\"displacy\" width=\"750\" height=\"312.0\" direction=\"ltr\" style=\"max-width: none; height: 312.0px; color: #000000; background: #ffffff; font-family: Arial; direction: ltr\">\n",
       "<text class=\"displacy-token\" fill=\"currentColor\" text-anchor=\"middle\" y=\"222.0\">\n",
       "    <tspan class=\"displacy-word\" fill=\"currentColor\" x=\"50\">This</tspan>\n",
       "    <tspan class=\"displacy-tag\" dy=\"2em\" fill=\"currentColor\" x=\"50\">PRON</tspan>\n",
       "</text>\n",
       "\n",
       "<text class=\"displacy-token\" fill=\"currentColor\" text-anchor=\"middle\" y=\"222.0\">\n",
       "    <tspan class=\"displacy-word\" fill=\"currentColor\" x=\"225\">is</tspan>\n",
       "    <tspan class=\"displacy-tag\" dy=\"2em\" fill=\"currentColor\" x=\"225\">AUX</tspan>\n",
       "</text>\n",
       "\n",
       "<text class=\"displacy-token\" fill=\"currentColor\" text-anchor=\"middle\" y=\"222.0\">\n",
       "    <tspan class=\"displacy-word\" fill=\"currentColor\" x=\"400\">a</tspan>\n",
       "    <tspan class=\"displacy-tag\" dy=\"2em\" fill=\"currentColor\" x=\"400\">DET</tspan>\n",
       "</text>\n",
       "\n",
       "<text class=\"displacy-token\" fill=\"currentColor\" text-anchor=\"middle\" y=\"222.0\">\n",
       "    <tspan class=\"displacy-word\" fill=\"currentColor\" x=\"575\">sentence.</tspan>\n",
       "    <tspan class=\"displacy-tag\" dy=\"2em\" fill=\"currentColor\" x=\"575\">NOUN</tspan>\n",
       "</text>\n",
       "\n",
       "<g class=\"displacy-arrow\">\n",
       "    <path class=\"displacy-arc\" id=\"arrow-7571ad5e2ed9453ba95ea11aa5eed6bc-0-0\" stroke-width=\"2px\" d=\"M70,177.0 C70,89.5 220.0,89.5 220.0,177.0\" fill=\"none\" stroke=\"currentColor\"/>\n",
       "    <text dy=\"1.25em\" style=\"font-size: 0.8em; letter-spacing: 1px\">\n",
       "        <textPath xlink:href=\"#arrow-7571ad5e2ed9453ba95ea11aa5eed6bc-0-0\" class=\"displacy-label\" startOffset=\"50%\" side=\"left\" fill=\"currentColor\" text-anchor=\"middle\">nsubj</textPath>\n",
       "    </text>\n",
       "    <path class=\"displacy-arrowhead\" d=\"M70,179.0 L62,167.0 78,167.0\" fill=\"currentColor\"/>\n",
       "</g>\n",
       "\n",
       "<g class=\"displacy-arrow\">\n",
       "    <path class=\"displacy-arc\" id=\"arrow-7571ad5e2ed9453ba95ea11aa5eed6bc-0-1\" stroke-width=\"2px\" d=\"M420,177.0 C420,89.5 570.0,89.5 570.0,177.0\" fill=\"none\" stroke=\"currentColor\"/>\n",
       "    <text dy=\"1.25em\" style=\"font-size: 0.8em; letter-spacing: 1px\">\n",
       "        <textPath xlink:href=\"#arrow-7571ad5e2ed9453ba95ea11aa5eed6bc-0-1\" class=\"displacy-label\" startOffset=\"50%\" side=\"left\" fill=\"currentColor\" text-anchor=\"middle\">det</textPath>\n",
       "    </text>\n",
       "    <path class=\"displacy-arrowhead\" d=\"M420,179.0 L412,167.0 428,167.0\" fill=\"currentColor\"/>\n",
       "</g>\n",
       "\n",
       "<g class=\"displacy-arrow\">\n",
       "    <path class=\"displacy-arc\" id=\"arrow-7571ad5e2ed9453ba95ea11aa5eed6bc-0-2\" stroke-width=\"2px\" d=\"M245,177.0 C245,2.0 575.0,2.0 575.0,177.0\" fill=\"none\" stroke=\"currentColor\"/>\n",
       "    <text dy=\"1.25em\" style=\"font-size: 0.8em; letter-spacing: 1px\">\n",
       "        <textPath xlink:href=\"#arrow-7571ad5e2ed9453ba95ea11aa5eed6bc-0-2\" class=\"displacy-label\" startOffset=\"50%\" side=\"left\" fill=\"currentColor\" text-anchor=\"middle\">attr</textPath>\n",
       "    </text>\n",
       "    <path class=\"displacy-arrowhead\" d=\"M575.0,179.0 L583.0,167.0 567.0,167.0\" fill=\"currentColor\"/>\n",
       "</g>\n",
       "</svg>\n",
       "</figure>\n",
       "</body>\n",
       "</html></span>"
      ],
      "text/plain": [
       "<IPython.core.display.HTML object>"
      ]
     },
     "metadata": {},
     "output_type": "display_data"
    },
    {
     "name": "stdout",
     "output_type": "stream",
     "text": [
      "\n",
      "Using the 'dep' visualizer\n",
      "Serving on http://0.0.0.0:5000 ...\n",
      "\n",
      "Shutting down server on port 5000.\n"
     ]
    },
    {
     "name": "stderr",
     "output_type": "stream",
     "text": [
      "C:\\Users\\anura\\AppData\\Roaming\\Python\\Python312\\site-packages\\spacy\\displacy\\__init__.py:213: UserWarning: [W006] No entities to visualize found in Doc object. If this is surprising to you, make sure the Doc was processed using a model that supports named entity recognition, and check the `doc.ents` property manually if necessary.\n",
      "  warnings.warn(Warnings.W006)\n"
     ]
    },
    {
     "data": {
      "text/html": [
       "<span class=\"tex2jax_ignore\"><!DOCTYPE html>\n",
       "<html lang=\"en\">\n",
       "    <head>\n",
       "        <title>displaCy</title>\n",
       "    </head>\n",
       "\n",
       "    <body style=\"font-size: 16px; font-family: -apple-system, BlinkMacSystemFont, 'Segoe UI', Helvetica, Arial, sans-serif, 'Apple Color Emoji', 'Segoe UI Emoji', 'Segoe UI Symbol'; padding: 4rem 2rem; direction: ltr\">\n",
       "<figure style=\"margin-bottom: 6rem\">\n",
       "<div class=\"entities\" style=\"line-height: 2.5; direction: ltr\">This is a sentence.</div>\n",
       "</figure>\n",
       "</body>\n",
       "</html></span>"
      ],
      "text/plain": [
       "<IPython.core.display.HTML object>"
      ]
     },
     "metadata": {},
     "output_type": "display_data"
    },
    {
     "name": "stdout",
     "output_type": "stream",
     "text": [
      "\n",
      "Using the 'ent' visualizer\n",
      "Serving on http://0.0.0.0:5000 ...\n",
      "\n",
      "Shutting down server on port 5000.\n"
     ]
    }
   ],
   "source": [
    "from spacy import displacy\n",
    "\n",
    "# Visualize dependency parse\n",
    "displacy.serve(doc, style=\"dep\")\n",
    "\n",
    "# Visualize named entities\n",
    "displacy.serve(doc, style=\"ent\")\n"
   ]
  },
  {
   "cell_type": "markdown",
   "metadata": {},
   "source": [
    "### Saving and Loading Models\n",
    "You can save your models to disk and load them later."
   ]
  },
  {
   "cell_type": "code",
   "execution_count": 21,
   "metadata": {},
   "outputs": [],
   "source": [
    "# Save model\n",
    "nlp.to_disk(\"/huggingface/\")\n",
    "\n",
    "# Load model\n",
    "nlp = spacy.load(\"/huggingface/\")\n"
   ]
  },
  {
   "cell_type": "markdown",
   "metadata": {},
   "source": [
    "## Conclusion\n",
    "SpaCy is a powerful library for NLP tasks, offering tools for tokenization, POS tagging, parsing, named entity recognition, and more. It is optimized for performance and can handle large volumes of text efficiently. The library is highly extensible, allowing for custom components and advanced features like rule-based matching and custom attributes."
   ]
  }
 ],
 "metadata": {
  "kernelspec": {
   "display_name": "Python 3",
   "language": "python",
   "name": "python3"
  },
  "language_info": {
   "codemirror_mode": {
    "name": "ipython",
    "version": 3
   },
   "file_extension": ".py",
   "mimetype": "text/x-python",
   "name": "python",
   "nbconvert_exporter": "python",
   "pygments_lexer": "ipython3",
   "version": "3.12.2"
  }
 },
 "nbformat": 4,
 "nbformat_minor": 2
}
